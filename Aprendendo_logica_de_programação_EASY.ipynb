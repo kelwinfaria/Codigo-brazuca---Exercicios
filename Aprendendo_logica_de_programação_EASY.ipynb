{
  "cells": [
    {
      "cell_type": "markdown",
      "metadata": {
        "id": "view-in-github",
        "colab_type": "text"
      },
      "source": [
        "<a href=\"https://colab.research.google.com/github/kelwinfaria/Codigo-brazuca---Exercicios/blob/main/Aprendendo_logica_de_programa%C3%A7%C3%A3o_EASY.ipynb\" target=\"_parent\"><img src=\"https://colab.research.google.com/assets/colab-badge.svg\" alt=\"Open In Colab\"/></a>"
      ]
    },
    {
      "cell_type": "code",
      "source": [
        "print(\"Exercicio 1 - (Imprimindo Mensagens) - Código brazuca\")\n",
        "print(\"#Escreva um programa que imprima seu nome e sua cidade natal.\")\n",
        "print(\"\")\n",
        "print(\"Meu nome é KELWIN , eu nasci em SÃO PAULO - SP\")"
      ],
      "metadata": {
        "colab": {
          "base_uri": "https://localhost:8080/"
        },
        "id": "WIZa_7iSVu9x",
        "outputId": "21c581e6-9ddd-4f6b-8df5-16442017e8c3"
      },
      "execution_count": null,
      "outputs": [
        {
          "output_type": "stream",
          "name": "stdout",
          "text": [
            "Exercicio 1 - Código brazuca\n",
            "#Escreva um programa que imprima seu nome e sua cidade natal.\n",
            "\n",
            "Meu nome é KELWIN , eu nasci em SÃO PAULO - SP\n"
          ]
        }
      ]
    },
    {
      "cell_type": "code",
      "execution_count": null,
      "metadata": {
        "id": "2aOoEGItXEvR",
        "colab": {
          "base_uri": "https://localhost:8080/"
        },
        "outputId": "1e5d8faa-94ec-46d1-fd1c-b1ad4c92469a"
      },
      "outputs": [
        {
          "output_type": "stream",
          "name": "stdout",
          "text": [
            "Exercicio 2 - (Variáveis e Entrada de Usuário) - Código brazuca\n",
            "Crie um programa que pergunte ao usuário seu filme favorito e quando ele foi lançado.\n",
            "\n",
            "Olá,qual o seu nome?dfas\n",
            "Qual é o seu filme favorito ?nf\n",
            "Em que ano ele foi lançado?uu\n",
            "Olá dfas seu filme favorito é nf ele foi lançado em uu\n"
          ]
        }
      ],
      "source": [
        "print(\"Exercicio 2 - (Variáveis e Entrada de Usuário) - Código brazuca\")\n",
        "print(\"Crie um programa que pergunte ao usuário seu filme favorito e quando ele foi lançado.\")\n",
        "print(\"\")\n",
        "pessoa=input(\"Olá,qual o seu nome?\")\n",
        "nome=input(\"Qual é o seu filme favorito ?\")\n",
        "ano=input(\"Em que ano ele foi lançado?\")\n",
        "print(\"Olá \" + pessoa + \" seu filme favorito é \" + nome + \" ele foi lançado em \" + ano)"
      ]
    },
    {
      "cell_type": "code",
      "source": [
        "print(\"Exercicio 3 - (Operações Matemáticas Simples) - Código brazuca\")\n",
        "print(\"Escreva um programa que peça dois números ao usuário e exiba a soma, subtração,multiplicação e divisão deles.\")\n",
        "print(\"\")\n",
        "\n",
        "# Solicita ao usuário que insira dois números\n",
        "numero1 = float(input(\"Digite o primeiro número: \"))\n",
        "numero2 = float(input(\"Digite o segundo número: \"))\n",
        "\n",
        "# Calcula as operações matemáticas básicas\n",
        "soma = numero1 + numero2\n",
        "subtracao = numero1 - numero2\n",
        "multiplicacao = numero1 * numero2\n",
        "divisao = numero1 / numero2\n",
        "\n",
        "# Exibe os resultados\n",
        "print(f\"A soma de {numero1} + {numero2}  = {soma}\")\n",
        "print(f\"A subtração de {numero1} - {numero2} = {subtracao}\")\n",
        "print(f\"A multiplicação de {numero1} * {numero2} = {multiplicacao}\")\n",
        "print(f\"A divisão de {numero1} / {numero2} = {divisao}\")"
      ],
      "metadata": {
        "colab": {
          "base_uri": "https://localhost:8080/"
        },
        "id": "yGCCK_S4Vxpw",
        "outputId": "d5152d25-3d77-47b4-cad1-620f3b202b03"
      },
      "execution_count": null,
      "outputs": [
        {
          "output_type": "stream",
          "name": "stdout",
          "text": [
            "Exercicio 3 - Código brazuca\n",
            "Escreva um programa que peça dois números ao usuário e exiba a soma, subtração,multiplicação e divisão deles.\n",
            "\n",
            "Digite o primeiro número: 1\n",
            "Digite o segundo número: 2\n",
            "A soma de 1.0 + 2.0  = 3.0\n",
            "A subtração de 1.0 - 2.0 = -1.0\n",
            "A multiplicação de 1.0 * 2.0 = 2.0\n",
            "A divisão de 1.0 / 2.0 = 0.5\n"
          ]
        }
      ]
    },
    {
      "cell_type": "code",
      "source": [
        "print(\"Exercicio 4 - (Estruturas Condicionais) - Código brazuca\")\n",
        "print(\"Escreva um programa que peça a temperatura atual e diga se está quente (acima de 30°C), frio (abaixo de 15°C) ou agradável (entre 15°C e 30°C).\")\n",
        "print(\"\")\n",
        "\n",
        "\n",
        "# Solicita ao usuário que insira a temperatura atual\n",
        "temperatura = float(input(\"Digite a temperatura atual em °C: \"))\n",
        "\n",
        "# Verifica se a temperatura é quente, fria ou agradávelif temperatura > 30:\n",
        "\n",
        "if temperatura > 30:\n",
        "    print(\"Está quente.\")\n",
        "elif temperatura < 15:\n",
        "    print(\"Está frio.\")\n",
        "else:\n",
        "    print(\"Está agradável.\")"
      ],
      "metadata": {
        "id": "wEIP8pzolK2m",
        "colab": {
          "base_uri": "https://localhost:8080/"
        },
        "outputId": "a4105e6d-dbfa-4ee8-c036-6261b65e80b9"
      },
      "execution_count": null,
      "outputs": [
        {
          "output_type": "stream",
          "name": "stdout",
          "text": [
            "Exercicio 4 - Código brazuca\n",
            "Escreva um programa que peça a temperatura atual e diga se está quente (acima de 30°C), frio (abaixo de 15°C) ou agradável (entre 15°C e 30°C).\n",
            "\n",
            "Digite a temperatura atual em °C: 8\n",
            "Está frio.\n"
          ]
        }
      ]
    },
    {
      "cell_type": "code",
      "source": [
        "print(\"Exercicio 5 - (Laços de Repetição) - Código brazuca\")\n",
        "print(\"Escreva um programa que conte de 1 a 10 e imprima apenas os números pares.\")\n",
        "print(\"\")\n",
        "\n",
        "for numero in range(1,15):\n",
        "  if numero % 2 == 0:\n",
        "        print(numero)"
      ],
      "metadata": {
        "id": "GDmljvQzYima"
      },
      "execution_count": null,
      "outputs": []
    },
    {
      "cell_type": "code",
      "source": [
        "print(\"Exercicio 6 - (Somatório com While) - Código brazuca\")\n",
        "print(\"Crie um programa que pergunte ao usuário por números até que ele digite zero e então mostre a soma dos números digitados.\")\n",
        "print(\"\")\n",
        "\n",
        "# Inicializa a variável que armazenará a soma dos números\n",
        "soma = 0\n",
        "\n",
        "# Loop infinito para pedir os números ao usuário\n",
        "while True:\n",
        "# Pede ao usuário que digite um número\n",
        "    numero = float(input(\"Digite um número (ou 0 para encerrar): \"))\n",
        "# Se o número digitado for 0, o loop é encerrado\n",
        "    if numero == 0:\n",
        "        break\n",
        "# Adiciona o número digitado à soma\n",
        "    soma += numero\n",
        "# Após o loop, imprime a soma dos números digitados\n",
        "\n",
        "print(\"A soma dos números digitados é:\", soma)"
      ],
      "metadata": {
        "id": "yMbvv_3wi5nl",
        "colab": {
          "base_uri": "https://localhost:8080/"
        },
        "outputId": "a93a3d5b-5ae3-470a-8b87-b6e12fddb084"
      },
      "execution_count": null,
      "outputs": [
        {
          "output_type": "stream",
          "name": "stdout",
          "text": [
            "Exercicio 5 - Código brazuca\n",
            "Crie um programa que pergunte ao usuário por números até que ele digite zero e então mostre a soma dos números digitados.\n",
            "\n",
            "Digite um número (ou 0 para encerrar): 8\n",
            "Digite um número (ou 0 para encerrar): 6\n",
            "Digite um número (ou 0 para encerrar): 9\n",
            "Digite um número (ou 0 para encerrar): 0\n",
            "A soma dos números digitados é: 23.0\n"
          ]
        }
      ]
    },
    {
      "cell_type": "code",
      "source": [
        "print(\"Exercicio 7 - (Trabalhando com Listas) - Código brazuca\")\n",
        "print(\"Crie uma lista de compras que permita ao usuário adicionar itens e, em seguida, imprima a lista completa.\")\n",
        "print(\"\")\n",
        "\n",
        "\n",
        "# Inicializa uma lista vazia para armazenar os itens da lista de compras\n",
        "lista_compras = []\n",
        "\n",
        "while True:\n",
        "    # Pede ao usuário para inserir um item ou digitar 'sair' para finalizar\n",
        "    item = input(\"Adicione um item à lista de compras (ou digite 'sair' para finalizar): \")\n",
        "\n",
        "    # Verifica se o usuário digitou 'sair'\n",
        "    if item.lower() == 'sair':\n",
        "        break  # Sai do loop\n",
        "\n",
        "    # Adiciona o item à lista de compras\n",
        "    lista_compras.append(item)\n",
        "\n",
        "# Imprime a lista completa de compras\n",
        "print(\"\\nLista de Compras:\")\n",
        "for item in lista_compras:\n",
        "    print(\"- \" + item)"
      ],
      "metadata": {
        "colab": {
          "base_uri": "https://localhost:8080/"
        },
        "id": "Z0Jpon8CZN0G",
        "outputId": "f7713f67-5687-4e7b-dadd-ddc794f404e1"
      },
      "execution_count": null,
      "outputs": [
        {
          "output_type": "stream",
          "name": "stdout",
          "text": [
            "Adicione um item à lista de compras (ou digite 'sair' para finalizar): ovo\n",
            "Adicione um item à lista de compras (ou digite 'sair' para finalizar): amora\n",
            "Adicione um item à lista de compras (ou digite 'sair' para finalizar): limao\n",
            "Adicione um item à lista de compras (ou digite 'sair' para finalizar): breaj\n",
            "Adicione um item à lista de compras (ou digite 'sair' para finalizar): break\n",
            "Adicione um item à lista de compras (ou digite 'sair' para finalizar): sair\n",
            "\n",
            "Lista de Compras:\n",
            "- ovo\n",
            "- amora\n",
            "- limao\n",
            "- breaj\n",
            "- break\n"
          ]
        }
      ]
    },
    {
      "cell_type": "code",
      "source": [],
      "metadata": {
        "id": "_0DHDPlNNRGH"
      },
      "execution_count": null,
      "outputs": []
    },
    {
      "cell_type": "code",
      "source": [
        "print(\"Exercicio 8 - (Criando Funções) - Código brazuca\")\n",
        "print(\"Escreva uma função que receba um número e retorne se ele é par ou ímpar.\")\n",
        "print(\"\")\n",
        "\n",
        "# Função para verificar se um número é par ou ímpar\n",
        "def par_ou_impar(numero):\n",
        "    if numero % 2 == 0:\n",
        "        return \"Par\"\n",
        "    else:\n",
        "        return \"Ímpar\"\n",
        "\n",
        "# Solicita ao usuário que insira um número\n",
        "numero = int(input(\"Digite um número: \"))\n",
        "\n",
        "# Chama a função e armazena o resultado\n",
        "resultado = par_ou_impar(numero)\n",
        "\n",
        "# Imprime o resultado\n",
        "print(f\"O número {numero} é {resultado}.\")\n"
      ],
      "metadata": {
        "colab": {
          "base_uri": "https://localhost:8080/"
        },
        "id": "_m8vWKuGIWhO",
        "outputId": "e6192d00-fcdf-4314-f2a1-7a9a63c5fa7c"
      },
      "execution_count": null,
      "outputs": [
        {
          "output_type": "stream",
          "name": "stdout",
          "text": [
            "Exercicio 8 - Código brazuca\n",
            "Escreva uma função que receba um número e retorne se ele é par ou ímpar.\n",
            "\n",
            "Digite um número: 1\n",
            "O número 1 é Ímpar.\n"
          ]
        }
      ]
    },
    {
      "cell_type": "code",
      "source": [
        "print(\"Exercicio 9 - (Manipulação de Strings) - Código brazuca\")\n",
        "print(\"#Escreva um programa que peça uma frase ao usuário e conte quantas vezes uma letra específica aparece\")\n",
        "print(\"\")\n",
        "\n",
        "\n",
        "# Solicita ao usuário para digitar uma frase\n",
        "frase=input(\"Digite uma frase\").lower()\n",
        "letra=input(\"Digite uma letra\").lower()\n",
        "# Conta o número de vezes que a letra aparece na frase\n",
        "quantidade = frase.count(letra)\n",
        "# Verifica a quantidade de vezes que a letra aparece e imprime a mensagem apropriada\n",
        "if quantidade == 1:\n",
        "   print(f\"A letra {letra} aparece {quantidade} vez\")\n",
        "\n",
        "else:\n",
        "   print(f\"A letra {letra} aparece {quantidade} de vezes\")"
      ],
      "metadata": {
        "id": "dQV4cY3tM-L_",
        "colab": {
          "base_uri": "https://localhost:8080/"
        },
        "outputId": "e1d21438-dea2-472a-cea7-8967da751a60"
      },
      "execution_count": null,
      "outputs": [
        {
          "output_type": "stream",
          "name": "stdout",
          "text": [
            "Exercicio 9 - (Manipulação de Strings) - Código brazuca\n",
            "#Escreva um programa que peça uma frase ao usuário e conte quantas vezes uma letra específica aparece\n",
            "\n",
            "Digite uma frase6\n",
            "Digite uma letra8\n",
            "A letra 8 aparece 0 de vezes\n"
          ]
        }
      ]
    },
    {
      "cell_type": "code",
      "source": [],
      "metadata": {
        "id": "OfIo4UGbGTG7"
      },
      "execution_count": null,
      "outputs": []
    },
    {
      "cell_type": "code",
      "source": [
        "print(\"Exercicio 10 - (Números Primos) - Código brazuca\")\n",
        "print(\"Crie um programa que encontre e imprima todos os números primos em um intervalo definido pelo usuário.\")\n",
        "print(\"\")\n",
        "\n",
        "def eh_primo(num):\n",
        "    if num < 2:\n",
        "        return False\n",
        "    for i in range(2, int(num**0.5) + 1):\n",
        "        if num % i == 0:\n",
        "            return False\n",
        "    return True\n",
        "\n",
        "# Solicita ao usuário o intervalo\n",
        "inicio = int(input(\"Digite o início do intervalo: \"))\n",
        "fim = int(input(\"Digite o fim do intervalo: \"))\n",
        "\n",
        "# Lista para armazenar números primos\n",
        "primos = []\n",
        "\n",
        "# Encontra e imprime os números primos no intervalo\n",
        "print(f\"Números primos entre {inicio} e {fim}:\")\n",
        "for num in range(inicio, fim + 1):\n",
        "    if eh_primo(num):\n",
        "        primos.append(num)\n",
        "\n",
        "# Imprime todos os números primos encontrados\n",
        "print(primos)"
      ],
      "metadata": {
        "id": "oKAv_AGTLhb3",
        "colab": {
          "base_uri": "https://localhost:8080/"
        },
        "outputId": "81424320-c4ac-4926-9db8-732c0e1bea78"
      },
      "execution_count": null,
      "outputs": [
        {
          "metadata": {
            "tags": null
          },
          "name": "stdout",
          "output_type": "stream",
          "text": [
            "Exercicio 10 - (Números Primos) Código brazuca\n",
            "Crie um programa que encontre e imprima todos os números primos em um intervalo definido pelo usuário.\n",
            "\n"
          ]
        }
      ]
    }
  ],
  "metadata": {
    "colab": {
      "provenance": [],
      "authorship_tag": "ABX9TyPkMWENA818MCnTxbmh/dYR",
      "include_colab_link": true
    },
    "kernelspec": {
      "display_name": "Python 3",
      "name": "python3"
    },
    "language_info": {
      "name": "python"
    }
  },
  "nbformat": 4,
  "nbformat_minor": 0
}