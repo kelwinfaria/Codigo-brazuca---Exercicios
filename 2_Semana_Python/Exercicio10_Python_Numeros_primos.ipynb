{
  "nbformat": 4,
  "nbformat_minor": 0,
  "metadata": {
    "colab": {
      "provenance": [],
      "authorship_tag": "ABX9TyMHHgQf9v6XZHOPmUXcmvc3",
      "include_colab_link": true
    },
    "kernelspec": {
      "name": "python3",
      "display_name": "Python 3"
    },
    "language_info": {
      "name": "python"
    }
  },
  "cells": [
    {
      "cell_type": "markdown",
      "metadata": {
        "id": "view-in-github",
        "colab_type": "text"
      },
      "source": [
        "<a href=\"https://colab.research.google.com/github/kelwinfaria/Codigo-brazuca---Exercicios/blob/main/Exercicio10_python_Numeros_primos.ipynb\" target=\"_parent\"><img src=\"https://colab.research.google.com/assets/colab-badge.svg\" alt=\"Open In Colab\"/></a>"
      ]
    },
    {
      "cell_type": "code",
      "execution_count": null,
      "metadata": {
        "id": "ZtQThD_SasAG"
      },
      "outputs": [],
      "source": [
        "print(\"Exercicio 10 - (Números Primos) - Código brazuca\")\n",
        "print(\"Crie um programa que encontre e imprima todos os números primos em um intervalo definido pelo usuário.\")\n",
        "print(\"\")\n",
        "\n",
        "def eh_primo(num):\n",
        "    if num < 2:\n",
        "        return False\n",
        "    for i in range(2, int(num**0.5) + 1):\n",
        "        if num % i == 0:\n",
        "            return False\n",
        "    return True\n",
        "\n",
        "\n",
        "inicio = int(input(\"Digite o início do intervalo: \"))\n",
        "fim = int(input(\"Digite o fim do intervalo: \"))\n",
        "\n",
        "primos = []\n",
        "\n",
        "print(f\"Números primos entre {inicio} e {fim}:\")\n",
        "for num in range(inicio, fim + 1):\n",
        "    if eh_primo(num):\n",
        "        primos.append(num)\n",
        "\n",
        "print(primos)"
      ]
    }
  ]
}
