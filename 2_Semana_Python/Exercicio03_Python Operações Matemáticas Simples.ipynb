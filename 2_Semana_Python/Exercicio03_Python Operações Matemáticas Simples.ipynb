{
  "nbformat": 4,
  "nbformat_minor": 0,
  "metadata": {
    "colab": {
      "provenance": [],
      "authorship_tag": "ABX9TyN9W1TR+djQXBDZji/XQThd",
      "include_colab_link": true
    },
    "kernelspec": {
      "name": "python3",
      "display_name": "Python 3"
    },
    "language_info": {
      "name": "python"
    }
  },
  "cells": [
    {
      "cell_type": "markdown",
      "metadata": {
        "id": "view-in-github",
        "colab_type": "text"
      },
      "source": [
        "<a href=\"https://colab.research.google.com/github/kelwinfaria/Codigo-brazuca---Exercicios/blob/main/Exercicio3_python.ipynb\" target=\"_parent\"><img src=\"https://colab.research.google.com/assets/colab-badge.svg\" alt=\"Open In Colab\"/></a>"
      ]
    },
    {
      "cell_type": "code",
      "execution_count": null,
      "metadata": {
        "id": "6J2WSB_TW7df"
      },
      "outputs": [],
      "source": [
        "print(\"Exercicio 3 - (Operações Matemáticas Simples) - Código brazuca\")\n",
        "print(\"Escreva um programa que peça dois números ao usuário e exiba a soma, subtração,multiplicação e divisão deles.\")\n",
        "print(\"\")\n",
        "\n",
        "# Solicita ao usuário que insira dois números\n",
        "numero1 = float(input(\"Digite o primeiro número: \"))\n",
        "numero2 = float(input(\"Digite o segundo número: \"))\n",
        "\n",
        "# Calcula as operações matemáticas básicas\n",
        "soma = numero1 + numero2\n",
        "subtracao = numero1 - numero2\n",
        "multiplicacao = numero1 * numero2\n",
        "divisao = numero1 / numero2\n",
        "\n",
        "# Exibe os resultados\n",
        "print(f\"A soma de {numero1} + {numero2}  = {soma}\")\n",
        "print(f\"A subtração de {numero1} - {numero2} = {subtracao}\")\n",
        "print(f\"A multiplicação de {numero1} * {numero2} = {multiplicacao}\")\n",
        "print(f\"A divisão de {numero1} / {numero2} = {divisao}\")"
      ]
    }
  ]
}
