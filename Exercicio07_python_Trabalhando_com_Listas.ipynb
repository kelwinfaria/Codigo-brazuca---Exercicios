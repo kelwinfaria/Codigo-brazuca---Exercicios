{
  "nbformat": 4,
  "nbformat_minor": 0,
  "metadata": {
    "colab": {
      "provenance": [],
      "authorship_tag": "ABX9TyNiaHO07aJZbXvjkY3sLgwH",
      "include_colab_link": true
    },
    "kernelspec": {
      "name": "python3",
      "display_name": "Python 3"
    },
    "language_info": {
      "name": "python"
    }
  },
  "cells": [
    {
      "cell_type": "markdown",
      "metadata": {
        "id": "view-in-github",
        "colab_type": "text"
      },
      "source": [
        "<a href=\"https://colab.research.google.com/github/kelwinfaria/Codigo-brazuca---Exercicios/blob/main/Exercicio07_python_Trabalhando_com_Listas.ipynb\" target=\"_parent\"><img src=\"https://colab.research.google.com/assets/colab-badge.svg\" alt=\"Open In Colab\"/></a>"
      ]
    },
    {
      "cell_type": "code",
      "execution_count": null,
      "metadata": {
        "colab": {
          "base_uri": "https://localhost:8080/"
        },
        "id": "kxPsdCYbZY9x",
        "outputId": "85db94cb-3693-4032-d9d8-56e4e61d49ef"
      },
      "outputs": [
        {
          "output_type": "stream",
          "name": "stdout",
          "text": [
            "Exercicio 7 - (Trabalhando com Listas) - Código brazuca\n",
            "Crie uma lista de compras que permita ao usuário adicionar itens e, em seguida, imprima a lista completa.\n",
            "\n"
          ]
        }
      ],
      "source": [
        "print(\"Exercicio 7 - (Trabalhando com Listas) - Código brazuca\")\n",
        "print(\"Crie uma lista de compras que permita ao usuário adicionar itens e, em seguida, imprima a lista completa.\")\n",
        "print(\"\")\n",
        "\n",
        "\n",
        "lista_compras = []\n",
        "\n",
        "while True:\n",
        "\n",
        "    item = input(\"Adicione um item à lista de compras (ou digite 'sair' para finalizar): \")\n",
        "\n",
        "    if item.lower() == 'sair':\n",
        "        break\n",
        "\n",
        "    lista_compras.append(item)\n",
        "\n",
        "print(\"\\nLista de Compras:\")\n",
        "for item in lista_compras:\n",
        "    print(\"- \" + item)"
      ]
    }
  ]
}