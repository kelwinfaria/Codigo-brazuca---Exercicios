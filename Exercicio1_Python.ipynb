{
  "nbformat": 4,
  "nbformat_minor": 0,
  "metadata": {
    "colab": {
      "provenance": [],
      "authorship_tag": "ABX9TyOihwxGR+1xKFCQPaQQ4vHG",
      "include_colab_link": true
    },
    "kernelspec": {
      "name": "python3",
      "display_name": "Python 3"
    },
    "language_info": {
      "name": "python"
    }
  },
  "cells": [
    {
      "cell_type": "markdown",
      "metadata": {
        "id": "view-in-github",
        "colab_type": "text"
      },
      "source": [
        "<a href=\"https://colab.research.google.com/github/kelwinfaria/Codigo-brazuca---Exercicios/blob/main/Exercicio1_Python.ipynb\" target=\"_parent\"><img src=\"https://colab.research.google.com/assets/colab-badge.svg\" alt=\"Open In Colab\"/></a>"
      ]
    },
    {
      "cell_type": "code",
      "execution_count": 1,
      "metadata": {
        "colab": {
          "base_uri": "https://localhost:8080/"
        },
        "id": "-df6UW1dVICF",
        "outputId": "e0a89b53-2014-40ab-e7a5-0c4d0d2e98a4"
      },
      "outputs": [
        {
          "output_type": "stream",
          "name": "stdout",
          "text": [
            "Exercicio 1 - (Imprimindo Mensagens) - Código brazuca\n",
            "#Escreva um programa que imprima seu nome e sua cidade natal.\n",
            "\n",
            "Meu nome é KELWIN , eu nasci em SÃO PAULO - SP\n"
          ]
        }
      ],
      "source": [
        "print(\"Exercicio 1 - (Imprimindo Mensagens) - Código brazuca\")\n",
        "print(\"#Escreva um programa que imprima seu nome e sua cidade natal.\")\n",
        "print(\"\")\n",
        "print(\"Meu nome é KELWIN , eu nasci em SÃO PAULO - SP\")"
      ]
    }
  ]
}