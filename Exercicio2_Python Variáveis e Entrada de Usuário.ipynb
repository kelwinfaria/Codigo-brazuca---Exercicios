{
  "nbformat": 4,
  "nbformat_minor": 0,
  "metadata": {
    "colab": {
      "provenance": [],
      "authorship_tag": "ABX9TyNV75k9gORKmmi6SVzb7dTq",
      "include_colab_link": true
    },
    "kernelspec": {
      "name": "python3",
      "display_name": "Python 3"
    },
    "language_info": {
      "name": "python"
    }
  },
  "cells": [
    {
      "cell_type": "markdown",
      "metadata": {
        "id": "view-in-github",
        "colab_type": "text"
      },
      "source": [
        "<a href=\"https://colab.research.google.com/github/kelwinfaria/Codigo-brazuca---Exercicios/blob/main/Exercicio2_Python.ipynb\" target=\"_parent\"><img src=\"https://colab.research.google.com/assets/colab-badge.svg\" alt=\"Open In Colab\"/></a>"
      ]
    },
    {
      "cell_type": "code",
      "execution_count": 1,
      "metadata": {
        "colab": {
          "base_uri": "https://localhost:8080/"
        },
        "id": "lWuYCWL5Wdji",
        "outputId": "bcc1ada8-9b63-4404-bdf3-60a6f81be6f8"
      },
      "outputs": [
        {
          "output_type": "stream",
          "name": "stdout",
          "text": [
            "Exercicio 2 - (Variáveis e Entrada de Usuário) - Código brazuca\n",
            "Crie um programa que pergunte ao usuário seu filme favorito e quando ele foi lançado.\n",
            "\n",
            "Olá,qual o seu nome?kelwin\n",
            "Qual é o seu filme favorito ?harry potter\n",
            "Em que ano ele foi lançado?10929\n",
            "Olá kelwin seu filme favorito é harry potter ele foi lançado em 10929\n"
          ]
        }
      ],
      "source": [
        "print(\"Exercicio 2 - (Variáveis e Entrada de Usuário) - Código brazuca\")\n",
        "print(\"Crie um programa que pergunte ao usuário seu filme favorito e quando ele foi lançado.\")\n",
        "print(\"\")\n",
        "pessoa=input(\"Olá,qual o seu nome?\")\n",
        "nome=input(\"Qual é o seu filme favorito ?\")\n",
        "ano=input(\"Em que ano ele foi lançado?\")\n",
        "print(\"Olá \" + pessoa + \" seu filme favorito é \" + nome + \" ele foi lançado em \" + ano)]"
      ]
    }
  ]
}
