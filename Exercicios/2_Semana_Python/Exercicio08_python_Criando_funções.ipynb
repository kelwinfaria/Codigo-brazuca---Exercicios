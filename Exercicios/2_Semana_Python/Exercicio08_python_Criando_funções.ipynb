{
  "nbformat": 4,
  "nbformat_minor": 0,
  "metadata": {
    "colab": {
      "provenance": [],
      "authorship_tag": "ABX9TyNKaqwIvll0o0Yg71v08lYC",
      "include_colab_link": true
    },
    "kernelspec": {
      "name": "python3",
      "display_name": "Python 3"
    },
    "language_info": {
      "name": "python"
    }
  },
  "cells": [
    {
      "cell_type": "markdown",
      "metadata": {
        "id": "view-in-github",
        "colab_type": "text"
      },
      "source": [
        "<a href=\"https://colab.research.google.com/github/kelwinfaria/Codigo-brazuca---Exercicios/blob/main/Exercicio08_python_Criando_fun%C3%A7%C3%B5es.ipynb\" target=\"_parent\"><img src=\"https://colab.research.google.com/assets/colab-badge.svg\" alt=\"Open In Colab\"/></a>"
      ]
    },
    {
      "cell_type": "code",
      "execution_count": 1,
      "metadata": {
        "id": "yE7RLNi-Z6xT",
        "outputId": "46322763-eef8-467b-ba4c-f405c88ffa58",
        "colab": {
          "base_uri": "https://localhost:8080/"
        }
      },
      "outputs": [
        {
          "output_type": "stream",
          "name": "stdout",
          "text": [
            "Exercicio 8 - (Criando Funções) - Código brazuca\n",
            "Escreva uma função que receba um número e retorne se ele é par ou ímpar.\n",
            "\n",
            "Digite um número: 5\n",
            "O número 5 é Ímpar.\n"
          ]
        }
      ],
      "source": [
        "print(\"Exercicio 8 - (Criando Funções) - Código brazuca\")\n",
        "print(\"Escreva uma função que receba um número e retorne se ele é par ou ímpar.\")\n",
        "print(\"\")\n",
        "\n",
        "\n",
        "def par_ou_impar(numero):\n",
        "    if numero % 2 == 0:\n",
        "        return \"Par\"\n",
        "    else:\n",
        "        return \"Ímpar\"\n",
        "\n",
        "numero = int(input(\"Digite um número: \"))\n",
        "\n",
        "resultado = par_ou_impar(numero)\n",
        "\n",
        "print(f\"O número {numero} é {resultado}.\")"
      ]
    }
  ]
}
