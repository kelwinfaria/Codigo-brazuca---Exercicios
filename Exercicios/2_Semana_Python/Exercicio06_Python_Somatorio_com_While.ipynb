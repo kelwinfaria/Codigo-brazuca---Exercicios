{
  "nbformat": 4,
  "nbformat_minor": 0,
  "metadata": {
    "colab": {
      "provenance": [],
      "authorship_tag": "ABX9TyN1dmcdGp6vZrTyiHlC4pf7",
      "include_colab_link": true
    },
    "kernelspec": {
      "name": "python3",
      "display_name": "Python 3"
    },
    "language_info": {
      "name": "python"
    }
  },
  "cells": [
    {
      "cell_type": "markdown",
      "metadata": {
        "id": "view-in-github",
        "colab_type": "text"
      },
      "source": [
        "<a href=\"https://colab.research.google.com/github/kelwinfaria/Codigo-brazuca---Exercicios/blob/main/Exercicio6_python_Somatorio_com_While.ipynb\" target=\"_parent\"><img src=\"https://colab.research.google.com/assets/colab-badge.svg\" alt=\"Open In Colab\"/></a>"
      ]
    },
    {
      "cell_type": "code",
      "execution_count": 1,
      "metadata": {
        "colab": {
          "base_uri": "https://localhost:8080/"
        },
        "id": "wWPA_34oY5LJ",
        "outputId": "27b29369-2949-450c-e260-ed92b848b92a"
      },
      "outputs": [
        {
          "output_type": "stream",
          "name": "stdout",
          "text": [
            "Exercicio 6 - (Somatório com While) - Código brazuca\n",
            "Crie um programa que pergunte ao usuário por números até que ele digite zero e então mostre a soma dos números digitados.\n",
            "\n",
            "Digite um número (ou 0 para encerrar): 1\n",
            "Digite um número (ou 0 para encerrar): 2\n",
            "Digite um número (ou 0 para encerrar): 3\n",
            "Digite um número (ou 0 para encerrar): 0\n",
            "A soma dos números digitados é: 6.0\n"
          ]
        }
      ],
      "source": [
        "print(\"Exercicio 6 - (Somatório com While) - Código brazuca\")\n",
        "print(\"Crie um programa que pergunte ao usuário por números até que ele digite zero e então mostre a soma dos números digitados.\")\n",
        "print(\"\")\n",
        "\n",
        "\n",
        "soma = 0\n",
        "while True:\n",
        "\n",
        "    numero = float(input(\"Digite um número (ou 0 para encerrar): \"))\n",
        "\n",
        "    if numero == 0:\n",
        "        break\n",
        "\n",
        "    soma += numero\n",
        "\n",
        "print(\"A soma dos números digitados é:\", soma)"
      ]
    }
  ]
}
