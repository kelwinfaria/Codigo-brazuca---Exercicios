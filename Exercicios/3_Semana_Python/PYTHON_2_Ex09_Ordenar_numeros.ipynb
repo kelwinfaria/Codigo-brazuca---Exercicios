{
  "nbformat": 4,
  "nbformat_minor": 0,
  "metadata": {
    "colab": {
      "provenance": [],
      "authorship_tag": "ABX9TyPYMR1Z6uXhIouTDli5oGS9",
      "include_colab_link": true
    },
    "kernelspec": {
      "name": "python3",
      "display_name": "Python 3"
    },
    "language_info": {
      "name": "python"
    }
  },
  "cells": [
    {
      "cell_type": "markdown",
      "metadata": {
        "id": "view-in-github",
        "colab_type": "text"
      },
      "source": [
        "<a href=\"https://colab.research.google.com/github/kelwinfaria/Codigo-brazuca---Exercicios/blob/main/Exercicios/3_Semana_Python/PYTHON_2_Ex09_Ordenar_numeros.ipynb\" target=\"_parent\"><img src=\"https://colab.research.google.com/assets/colab-badge.svg\" alt=\"Open In Colab\"/></a>"
      ]
    },
    {
      "cell_type": "code",
      "execution_count": null,
      "metadata": {
        "colab": {
          "base_uri": "https://localhost:8080/"
        },
        "id": "lDKuWtbZWQaU",
        "outputId": "5a6c4437-4a91-4b66-a26b-a9aa07632b31"
      },
      "outputs": [
        {
          "output_type": "stream",
          "name": "stdout",
          "text": [
            "Exercicio 8 - (Ordenação de Números) - Codigo brazuca\n",
            "Crie um programa que leia três números diferentes e os imprima em ordem crescente.\n",
            "\n",
            "Digite o primeiro número: 5\n",
            "Digite o segundo número: 66\n",
            "Digite o terceiro número: 90\n",
            "Os números em ordem crescente são: [5.0, 66.0, 90.0]\n"
          ]
        }
      ],
      "source": [
        "print(\"Exercicio 8 - (Ordenação de Números) - Codigo brazuca\")\n",
        "print(\"Crie um programa que leia três números diferentes e os imprima em ordem crescente.\")\n",
        "print(\"\")\n",
        "\n",
        "def ordenar_numeros():\n",
        "\n",
        "    num1 = float(input(\"Digite o primeiro número: \"))\n",
        "    num2 = float(input(\"Digite o segundo número: \"))\n",
        "    num3 = float(input(\"Digite o terceiro número: \"))\n",
        "    numeros = [num1, num2, num3]\n",
        "    numeros.sort()\n",
        "\n",
        "    print(\"Os números em ordem crescente são:\", numeros)\n",
        "\n",
        "ordenar_numeros()"
      ]
    }
  ]
}