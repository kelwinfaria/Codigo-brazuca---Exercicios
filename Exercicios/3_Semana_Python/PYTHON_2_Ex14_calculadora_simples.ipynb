{
  "nbformat": 4,
  "nbformat_minor": 0,
  "metadata": {
    "colab": {
      "provenance": [],
      "authorship_tag": "ABX9TyPkJ7jzme0SXK8XsVDwgN7g",
      "include_colab_link": true
    },
    "kernelspec": {
      "name": "python3",
      "display_name": "Python 3"
    },
    "language_info": {
      "name": "python"
    }
  },
  "cells": [
    {
      "cell_type": "markdown",
      "metadata": {
        "id": "view-in-github",
        "colab_type": "text"
      },
      "source": [
        "<a href=\"https://colab.research.google.com/github/kelwinfaria/Codigo-brazuca---Exercicios/blob/main/Exercicios/3_Semana_Python/PYTHON_2_Ex14_calculadora_simples.ipynb\" target=\"_parent\"><img src=\"https://colab.research.google.com/assets/colab-badge.svg\" alt=\"Open In Colab\"/></a>"
      ]
    },
    {
      "cell_type": "code",
      "execution_count": null,
      "metadata": {
        "colab": {
          "base_uri": "https://localhost:8080/"
        },
        "id": "v6707RWibqMs",
        "outputId": "883c6098-9ec4-4ae7-cf77-0c3b92185048"
      },
      "outputs": [
        {
          "output_type": "stream",
          "name": "stdout",
          "text": [
            "Exercicio 14 - (Cálculadora simples) - Codigo brazuca\n",
            " Crie um programa que funcione como uma calculadora simples, pedindo ao usuário dois números e a operação que deseja realizar.\n",
            "\n",
            "Bem-vindo à calculadora simples!\n",
            "Digite o primeiro número: 5\n",
            "Digite o segundo número: 6\n",
            "Digite a operação desejada (+, -, *, /): *\n",
            "O resultado de 5.0 * 6.0 é: 30.0\n"
          ]
        }
      ],
      "source": [
        "print(\"Exercicio 14 - (Cálculadora simples) - Codigo brazuca\")\n",
        "print(\" Crie um programa que funcione como uma calculadora simples, pedindo ao usuário dois números e a operação que deseja realizar.\")\n",
        "print(\"\")\n",
        "\n",
        "def calculadora():\n",
        "    print(\"Bem-vindo à calculadora simples!\")\n",
        "\n",
        "    numero1 = float(input(\"Digite o primeiro número: \"))\n",
        "    numero2 = float(input(\"Digite o segundo número: \"))\n",
        "\n",
        "    operacao = input(\"Digite a operação desejada (+, -, *, /): \")\n",
        "\n",
        "    if operacao == '+':\n",
        "        resultado = numero1 + numero2\n",
        "    elif operacao == '-':\n",
        "        resultado = numero1 - numero2\n",
        "    elif operacao == '*':\n",
        "        resultado = numero1 * numero2\n",
        "    elif operacao == '/':\n",
        "        if numero2 != 0:\n",
        "            resultado = numero1 / numero2\n",
        "        else:\n",
        "            return \"Erro: Divisão por zero não é permitida.\"\n",
        "    else:\n",
        "        return \"Operação inválida. Por favor, escolha uma das operações: +, -, *, /\"\n",
        "\n",
        "    return f\"O resultado de {numero1} {operacao} {numero2} é: {resultado}\"\n",
        "\n",
        "resultado = calculadora()\n",
        "print(resultado)"
      ]
    }
  ]
}