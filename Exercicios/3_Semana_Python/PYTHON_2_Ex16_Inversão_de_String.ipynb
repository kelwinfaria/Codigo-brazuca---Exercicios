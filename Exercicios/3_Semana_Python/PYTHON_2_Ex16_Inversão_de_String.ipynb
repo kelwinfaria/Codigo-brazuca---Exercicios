{
  "nbformat": 4,
  "nbformat_minor": 0,
  "metadata": {
    "colab": {
      "provenance": [],
      "authorship_tag": "ABX9TyOMOgjE0cC9ZZvAAgmn6JuP",
      "include_colab_link": true
    },
    "kernelspec": {
      "name": "python3",
      "display_name": "Python 3"
    },
    "language_info": {
      "name": "python"
    }
  },
  "cells": [
    {
      "cell_type": "markdown",
      "metadata": {
        "id": "view-in-github",
        "colab_type": "text"
      },
      "source": [
        "<a href=\"https://colab.research.google.com/github/kelwinfaria/Codigo-brazuca---Exercicios/blob/main/Exercicios/3_Semana_Python/PYTHON_2_Ex16_Invers%C3%A3o_de_String.ipynb\" target=\"_parent\"><img src=\"https://colab.research.google.com/assets/colab-badge.svg\" alt=\"Open In Colab\"/></a>"
      ]
    },
    {
      "cell_type": "code",
      "execution_count": null,
      "metadata": {
        "colab": {
          "base_uri": "https://localhost:8080/"
        },
        "id": "FXT0mHmmdT63",
        "outputId": "cc530608-abbe-4dd3-eeda-2baf7091960d"
      },
      "outputs": [
        {
          "output_type": "stream",
          "name": "stdout",
          "text": [
            "Exercicio 16 - (Inversao de String) - Codigo brazuca\n",
            "Crie um programa que peça uma string ao usuário e a exiba invertida  \n",
            "\n",
            "Digite uma string: Bitcoin é melhor que XRP\n",
            "A string invertida é: PRX euq rohlem é nioctiB\n"
          ]
        }
      ],
      "source": [
        "print(\"Exercicio 16 - (Inversao de String) - Codigo brazuca\")\n",
        "print(\"Crie um programa que peça uma string ao usuário e a exiba invertida  \")\n",
        "print(\"\")\n",
        "\n",
        "def inverter_string():\n",
        "    string = input(\"Digite uma string: \")\n",
        "    string_invertida = string[::-1]\n",
        "    print(f\"A string invertida é: {string_invertida}\")\n",
        "\n",
        "inverter_string()"
      ]
    }
  ]
}