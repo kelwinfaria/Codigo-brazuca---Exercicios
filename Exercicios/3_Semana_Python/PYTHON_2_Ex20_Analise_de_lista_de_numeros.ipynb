{
  "nbformat": 4,
  "nbformat_minor": 0,
  "metadata": {
    "colab": {
      "provenance": [],
      "authorship_tag": "ABX9TyMD2RbaCr7FtLMuT7uRO1OS",
      "include_colab_link": true
    },
    "kernelspec": {
      "name": "python3",
      "display_name": "Python 3"
    },
    "language_info": {
      "name": "python"
    }
  },
  "cells": [
    {
      "cell_type": "markdown",
      "metadata": {
        "id": "view-in-github",
        "colab_type": "text"
      },
      "source": [
        "<a href=\"https://colab.research.google.com/github/kelwinfaria/Codigo-brazuca---Exercicios/blob/main/Exercicios/3_Semana_Python/PYTHON_2_Ex20_Analise_de_lista_de_numeros.ipynb\" target=\"_parent\"><img src=\"https://colab.research.google.com/assets/colab-badge.svg\" alt=\"Open In Colab\"/></a>"
      ]
    },
    {
      "cell_type": "code",
      "execution_count": null,
      "metadata": {
        "colab": {
          "base_uri": "https://localhost:8080/"
        },
        "id": "wNfy4gqOfYv6",
        "outputId": "39082dfc-0a41-4ea9-bbbe-ec692813f5c0"
      },
      "outputs": [
        {
          "output_type": "stream",
          "name": "stdout",
          "text": [
            "Exercicio 20 - (Análise de Lista de Números) - Codigo brazuca\n",
            "Escreva um programa que peça ao usuário uma lista de números e, ao final, exiba o maior, o menor, e a média dos números inseridos.\n",
            "\n",
            "Digite uma lista de números. Para terminar, digite 'sair'.\n",
            "Digite um número (ou 'sair' para terminar): 5\n",
            "Digite um número (ou 'sair' para terminar): 6\n",
            "Digite um número (ou 'sair' para terminar): 7\n",
            "Digite um número (ou 'sair' para terminar): 8\n",
            "Digite um número (ou 'sair' para terminar): 9\n",
            "Digite um número (ou 'sair' para terminar): sair\n",
            "O maior número é: 9.0\n",
            "O menor número é: 5.0\n",
            "A média dos números é: 7.00\n"
          ]
        }
      ],
      "source": [
        "print(\"Exercicio 20 - (Análise de Lista de Números) - Codigo brazuca\")\n",
        "print(\"Escreva um programa que peça ao usuário uma lista de números e, ao final, exiba o maior, o menor, e a média dos números inseridos.\")\n",
        "print(\"\")\n",
        "\n",
        "def calcular_maior_menor_media(numeros):\n",
        "    if not numeros:\n",
        "        return None, None, None\n",
        "\n",
        "    maior = max(numeros)\n",
        "    menor = min(numeros)\n",
        "    media = sum(numeros) / len(numeros)\n",
        "\n",
        "    return maior, menor, media\n",
        "\n",
        "def main():\n",
        "    numeros = []\n",
        "\n",
        "    print(\"Digite uma lista de números. Para terminar, digite 'sair'.\")\n",
        "\n",
        "    while True:\n",
        "        entrada = input(\"Digite um número (ou 'sair' para terminar): \")\n",
        "\n",
        "        if entrada.lower() == 'sair':\n",
        "            break\n",
        "\n",
        "        try:\n",
        "            numero = float(entrada)\n",
        "            numeros.append(numero)\n",
        "        except ValueError:\n",
        "            print(\"Entrada inválida. Por favor, digite um número ou 'sair'.\")\n",
        "\n",
        "    maior, menor, media = calcular_maior_menor_media(numeros)\n",
        "\n",
        "    if maior is not None:\n",
        "        print(f\"O maior número é: {maior}\")\n",
        "        print(f\"O menor número é: {menor}\")\n",
        "        print(f\"A média dos números é: {media:.2f}\")\n",
        "    else:\n",
        "        print(\"Nenhum número foi inserido.\")\n",
        "\n",
        "main()\n"
      ]
    }
  ]
}