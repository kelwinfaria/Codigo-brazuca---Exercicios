{
  "nbformat": 4,
  "nbformat_minor": 0,
  "metadata": {
    "colab": {
      "provenance": [],
      "authorship_tag": "ABX9TyMg7GXmXi/BgqqGRZ2pGBTu",
      "include_colab_link": true
    },
    "kernelspec": {
      "name": "python3",
      "display_name": "Python 3"
    },
    "language_info": {
      "name": "python"
    }
  },
  "cells": [
    {
      "cell_type": "markdown",
      "metadata": {
        "id": "view-in-github",
        "colab_type": "text"
      },
      "source": [
        "<a href=\"https://colab.research.google.com/github/kelwinfaria/Codigo-brazuca---Exercicios/blob/main/Exercicios/3_Semana_Python/PYTHON_2_Ex10_par_ou_impar.ipynb\" target=\"_parent\"><img src=\"https://colab.research.google.com/assets/colab-badge.svg\" alt=\"Open In Colab\"/></a>"
      ]
    },
    {
      "cell_type": "code",
      "execution_count": null,
      "metadata": {
        "colab": {
          "base_uri": "https://localhost:8080/"
        },
        "id": "Dq1w7CFKYEHF",
        "outputId": "96d639da-e607-4a17-dd0a-0f4f9b44339d"
      },
      "outputs": [
        {
          "output_type": "stream",
          "name": "stdout",
          "text": [
            "Exercicio 10 - (Par ou impar) - Codigo brazuca\n",
            "Escreva um programa que peça ao usuário um número inteiro e informe se ele é par ou ímpar. \n",
            "\n",
            "Digite um número inteiro: 9\n",
            "O número 9 é ímpar.\n"
          ]
        }
      ],
      "source": [
        "print(\"Exercicio 10 - (Par ou impar) - Codigo brazuca\")\n",
        "print(\"Escreva um programa que peça ao usuário um número inteiro e informe se ele é par ou ímpar. \")\n",
        "print(\"\")\n",
        "\n",
        "def verificar_par_ou_impar():\n",
        "    numero = int(input(\"Digite um número inteiro: \"))\n",
        "\n",
        "    if numero % 2 == 0:\n",
        "        print(f\"O número {numero} é par.\")\n",
        "    else:\n",
        "        print(f\"O número {numero} é ímpar.\")\n",
        "\n",
        "verificar_par_ou_impar()"
      ]
    }
  ]
}