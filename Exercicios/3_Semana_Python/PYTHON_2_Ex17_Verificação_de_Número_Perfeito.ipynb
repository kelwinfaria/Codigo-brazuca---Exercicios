{
  "nbformat": 4,
  "nbformat_minor": 0,
  "metadata": {
    "colab": {
      "provenance": [],
      "authorship_tag": "ABX9TyPjz56kCWTwg0e6UNeNXTDs",
      "include_colab_link": true
    },
    "kernelspec": {
      "name": "python3",
      "display_name": "Python 3"
    },
    "language_info": {
      "name": "python"
    }
  },
  "cells": [
    {
      "cell_type": "markdown",
      "metadata": {
        "id": "view-in-github",
        "colab_type": "text"
      },
      "source": [
        "<a href=\"https://colab.research.google.com/github/kelwinfaria/Codigo-brazuca---Exercicios/blob/main/Exercicios/3_Semana_Python/PYTHON_2_Ex17_Verifica%C3%A7%C3%A3o_de_N%C3%BAmero_Perfeito.ipynb\" target=\"_parent\"><img src=\"https://colab.research.google.com/assets/colab-badge.svg\" alt=\"Open In Colab\"/></a>"
      ]
    },
    {
      "cell_type": "code",
      "execution_count": null,
      "metadata": {
        "colab": {
          "base_uri": "https://localhost:8080/"
        },
        "id": "tdngZfiHdzlJ",
        "outputId": "aa272faa-14b7-4d88-b5d1-5d5138edc733"
      },
      "outputs": [
        {
          "output_type": "stream",
          "name": "stdout",
          "text": [
            "Exercicio 17 - (Verificação de Número Perfeito) - Codigo brazuca\n",
            "Escreva um programa que verifique se um número dado é um número perfeito  \n",
            "\n",
            "Digite um número: 99\n",
            "99 não é um número perfeito.\n"
          ]
        }
      ],
      "source": [
        "print(\"Exercicio 17 - (Verificação de Número Perfeito) - Codigo brazuca\")\n",
        "print(\"Escreva um programa que verifique se um número dado é um número perfeito  \")\n",
        "print(\"\")\n",
        "\n",
        "def verificar_numero_perfeito(n):\n",
        "    if n <= 0:\n",
        "        return False\n",
        "\n",
        "    soma_divisores = 0\n",
        "    for i in range(1, n):\n",
        "        if n % i == 0:\n",
        "            soma_divisores += i\n",
        "\n",
        "    return soma_divisores == n\n",
        "\n",
        "numero = int(input(\"Digite um número: \"))\n",
        "\n",
        "if verificar_numero_perfeito(numero):\n",
        "    print(f\"{numero} é um número perfeito.\")\n",
        "else:\n",
        "    print(f\"{numero} não é um número perfeito.\")"
      ]
    }
  ]
}