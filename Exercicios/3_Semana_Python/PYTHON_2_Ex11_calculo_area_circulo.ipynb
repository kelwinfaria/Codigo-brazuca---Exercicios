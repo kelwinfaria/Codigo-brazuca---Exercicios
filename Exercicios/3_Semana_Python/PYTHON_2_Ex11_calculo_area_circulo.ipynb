{
  "nbformat": 4,
  "nbformat_minor": 0,
  "metadata": {
    "colab": {
      "provenance": [],
      "authorship_tag": "ABX9TyMc0/h7pOT//0Xh7AB7cpAl",
      "include_colab_link": true
    },
    "kernelspec": {
      "name": "python3",
      "display_name": "Python 3"
    },
    "language_info": {
      "name": "python"
    }
  },
  "cells": [
    {
      "cell_type": "markdown",
      "metadata": {
        "id": "view-in-github",
        "colab_type": "text"
      },
      "source": [
        "<a href=\"https://colab.research.google.com/github/kelwinfaria/Codigo-brazuca---Exercicios/blob/main/Exercicios/3_Semana_Python/PYTHON_2_Ex11_calculo_area_circulo.ipynb\" target=\"_parent\"><img src=\"https://colab.research.google.com/assets/colab-badge.svg\" alt=\"Open In Colab\"/></a>"
      ]
    },
    {
      "cell_type": "code",
      "execution_count": null,
      "metadata": {
        "colab": {
          "base_uri": "https://localhost:8080/"
        },
        "id": "DujI3hfvY-Qg",
        "outputId": "d148a01c-e029-4113-eb99-bd935bf492c9"
      },
      "outputs": [
        {
          "output_type": "stream",
          "name": "stdout",
          "text": [
            "Exercicio 11 - (Cálculo de Área de Círculo) - Codigo brazuca\n",
            "Escreva um programa que peça ao usuário um número n e calcule a soma dos primeiros n números naturais.\n",
            "\n",
            "Digite um número natural : 5\n",
            "A soma dos primeiros 5 números naturais é: 15\n"
          ]
        }
      ],
      "source": [
        "print(\"Exercicio 11 - (Cálculo de Área de Círculo) - Codigo brazuca\")\n",
        "print(\"Escreva um programa que peça ao usuário um número n e calcule a soma dos primeiros n números naturais.\")\n",
        "print(\"\")\n",
        "\n",
        "def calcular_soma_naturais(n):\n",
        "    soma = 0\n",
        "    for i in range(1, n + 1):\n",
        "        soma += i\n",
        "    return soma\n",
        "\n",
        "n = int(input(\"Digite um número natural : \"))\n",
        "if n > 0:\n",
        "    resultado = calcular_soma_naturais(n)\n",
        "    print(f\"A soma dos primeiros {n} números naturais é: {resultado}\")\n",
        "else:\n",
        "    print(\"Por favor, insira um número natural positivo.\")\n"
      ]
    }
  ]
}