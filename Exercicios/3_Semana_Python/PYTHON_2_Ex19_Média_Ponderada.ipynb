{
  "nbformat": 4,
  "nbformat_minor": 0,
  "metadata": {
    "colab": {
      "provenance": [],
      "authorship_tag": "ABX9TyPe8NYGgQsdRuyjha5oPV9N",
      "include_colab_link": true
    },
    "kernelspec": {
      "name": "python3",
      "display_name": "Python 3"
    },
    "language_info": {
      "name": "python"
    }
  },
  "cells": [
    {
      "cell_type": "markdown",
      "metadata": {
        "id": "view-in-github",
        "colab_type": "text"
      },
      "source": [
        "<a href=\"https://colab.research.google.com/github/kelwinfaria/Codigo-brazuca---Exercicios/blob/main/Exercicios/3_Semana_Python/PYTHON_2_Ex19_M%C3%A9dia_Ponderada.ipynb\" target=\"_parent\"><img src=\"https://colab.research.google.com/assets/colab-badge.svg\" alt=\"Open In Colab\"/></a>"
      ]
    },
    {
      "cell_type": "code",
      "execution_count": null,
      "metadata": {
        "colab": {
          "base_uri": "https://localhost:8080/"
        },
        "id": "2QY0w-Ooe2pL",
        "outputId": "d330b32e-ef49-43ae-876c-cbd9300cd00f"
      },
      "outputs": [
        {
          "output_type": "stream",
          "name": "stdout",
          "text": [
            "Exercicio 19 - (Media ponderada) - Codigo brazuca\n",
            ": Crie um programa que calcule a média ponderada de três notas fornecidas pelo usuário, considerando os pesos 2, 3 e 5.  \n",
            "\n",
            "Digite as três notas e os pesos correspondentes.\n",
            "Digite a primeira nota: 6\n",
            "Digite a segunda nota: 2\n",
            "Digite a terceira nota: 1\n",
            "A média ponderada das notas é: 2.30\n"
          ]
        }
      ],
      "source": [
        "print(\"Exercicio 19 - (Media ponderada) - Codigo brazuca\")\n",
        "print(\": Crie um programa que calcule a média ponderada de três notas fornecidas pelo usuário, considerando os pesos 2, 3 e 5.  \")\n",
        "print(\"\")\n",
        "\n",
        "def calcular_media_ponderada(n1, n2, n3, p1, p2, p3):\n",
        "    return (n1 * p1 + n2 * p2 + n3 * p3) / (p1 + p2 + p3)\n",
        "\n",
        "print(\"Digite as três notas e os pesos correspondentes.\")\n",
        "\n",
        "nota1 = float(input(\"Digite a primeira nota: \"))\n",
        "nota2 = float(input(\"Digite a segunda nota: \"))\n",
        "nota3 = float(input(\"Digite a terceira nota: \"))\n",
        "\n",
        "peso1 = 2\n",
        "peso2 = 3\n",
        "peso3 = 5\n",
        "\n",
        "media_ponderada = calcular_media_ponderada(nota1, nota2, nota3, peso1, peso2, peso3)\n",
        "print(f\"A média ponderada das notas é: {media_ponderada:.2f}\")\n",
        "\n"
      ]
    }
  ]
}