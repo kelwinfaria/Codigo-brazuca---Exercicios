{
  "nbformat": 4,
  "nbformat_minor": 0,
  "metadata": {
    "colab": {
      "provenance": [],
      "authorship_tag": "ABX9TyMPfSRjhPqL2+sQ2XDlmllH",
      "include_colab_link": true
    },
    "kernelspec": {
      "name": "python3",
      "display_name": "Python 3"
    },
    "language_info": {
      "name": "python"
    }
  },
  "cells": [
    {
      "cell_type": "markdown",
      "metadata": {
        "id": "view-in-github",
        "colab_type": "text"
      },
      "source": [
        "<a href=\"https://colab.research.google.com/github/kelwinfaria/Codigo-brazuca---Exercicios/blob/main/Exercicios/3_Semana_Python/PYTHON_2_Ex18_Contagem_de_Palavras.ipynb\" target=\"_parent\"><img src=\"https://colab.research.google.com/assets/colab-badge.svg\" alt=\"Open In Colab\"/></a>"
      ]
    },
    {
      "cell_type": "code",
      "execution_count": null,
      "metadata": {
        "colab": {
          "base_uri": "https://localhost:8080/"
        },
        "id": "2s44MX0jeRls",
        "outputId": "4a91a640-f2df-40fb-ef21-971730a43cba"
      },
      "outputs": [
        {
          "output_type": "stream",
          "name": "stdout",
          "text": [
            "Exercicio 18 - (Contagem de Palavras) - Codigo brazuca\n",
            ": Desenvolva um programa que conte quantas palavras há em uma frase fornecida pelo usuário.  \n",
            "\n",
            "Digite uma frase: Eu ainda vou me tornar bom nisso\n",
            "A frase contém 7 palavras.\n"
          ]
        }
      ],
      "source": [
        "print(\"Exercicio 18 - (Contagem de Palavras) - Codigo brazuca\")\n",
        "print(\": Desenvolva um programa que conte quantas palavras há em uma frase fornecida pelo usuário.  \")\n",
        "print(\"\")\n",
        "\n",
        "def contar_palavras(frase):\n",
        "    palavras = frase.split()\n",
        "    return len(palavras)\n",
        "\n",
        "frase = input(\"Digite uma frase: \")\n",
        "numero_palavras = contar_palavras(frase)\n",
        "print(f\"A frase contém {numero_palavras} palavras.\")"
      ]
    }
  ]
}