{
  "nbformat": 4,
  "nbformat_minor": 0,
  "metadata": {
    "colab": {
      "provenance": [],
      "authorship_tag": "ABX9TyPsAYU9pVChYyN6EIoJihKc",
      "include_colab_link": true
    },
    "kernelspec": {
      "name": "python3",
      "display_name": "Python 3"
    },
    "language_info": {
      "name": "python"
    }
  },
  "cells": [
    {
      "cell_type": "markdown",
      "metadata": {
        "id": "view-in-github",
        "colab_type": "text"
      },
      "source": [
        "<a href=\"https://colab.research.google.com/github/kelwinfaria/Codigo-brazuca---Exercicios/blob/main/Exercicios/3_Semana_Python/PYTHON_2_Ex06_Contagem_vogais.ipynb\" target=\"_parent\"><img src=\"https://colab.research.google.com/assets/colab-badge.svg\" alt=\"Open In Colab\"/></a>"
      ]
    },
    {
      "cell_type": "code",
      "execution_count": 1,
      "metadata": {
        "colab": {
          "base_uri": "https://localhost:8080/"
        },
        "id": "20HKuHeeNKmO",
        "outputId": "41dd3a9a-994f-49dd-f44e-436f7bd97a97"
      },
      "outputs": [
        {
          "output_type": "stream",
          "name": "stdout",
          "text": [
            "Exercicio 6 - (Contagem de vogais) - Código brazuca\n",
            "Crie um programa que peça uma frase ao usuário e conte quantas vogais (a, e, i, o,u) ela contém.\n",
            "\n",
            "Digite uma frase: Bitcoin agora e lua\n",
            "A frase contém 9 vogais.\n"
          ]
        }
      ],
      "source": [
        "print(\"Exercicio 6 - (Contagem de vogais) - Código brazuca\")\n",
        "print(\"Crie um programa que peça uma frase ao usuário e conte quantas vogais (a, e, i, o,u) ela contém.\")\n",
        "print(\"\")\n",
        "\n",
        "def contar_vogais(frase):\n",
        "    vogais = \"aeiouAEIOU\"\n",
        "    contador = 0\n",
        "    for letra in frase:\n",
        "        if letra in vogais:\n",
        "            contador += 1\n",
        "    return contador\n",
        "\n",
        "frase = input(\"Digite uma frase: \")\n",
        "numero_de_vogais = contar_vogais(frase)\n",
        "print(f\"A frase contém {numero_de_vogais} vogais.\")"
      ]
    }
  ]
}