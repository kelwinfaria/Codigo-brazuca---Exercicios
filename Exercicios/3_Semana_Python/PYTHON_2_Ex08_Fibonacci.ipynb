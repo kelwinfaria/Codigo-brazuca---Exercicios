{
  "nbformat": 4,
  "nbformat_minor": 0,
  "metadata": {
    "colab": {
      "provenance": [],
      "authorship_tag": "ABX9TyPtFkiUfF708XV1g15/yZQY",
      "include_colab_link": true
    },
    "kernelspec": {
      "name": "python3",
      "display_name": "Python 3"
    },
    "language_info": {
      "name": "python"
    }
  },
  "cells": [
    {
      "cell_type": "markdown",
      "metadata": {
        "id": "view-in-github",
        "colab_type": "text"
      },
      "source": [
        "<a href=\"https://colab.research.google.com/github/kelwinfaria/Codigo-brazuca---Exercicios/blob/main/Exercicios/3_Semana_Python/PYTHON_2_Ex08_Fibonacci.ipynb\" target=\"_parent\"><img src=\"https://colab.research.google.com/assets/colab-badge.svg\" alt=\"Open In Colab\"/></a>"
      ]
    },
    {
      "cell_type": "code",
      "execution_count": null,
      "metadata": {
        "id": "iOM3mQJ1VTdh",
        "colab": {
          "base_uri": "https://localhost:8080/"
        },
        "outputId": "8b743f9b-6a92-4a4d-b0a0-81e425ff4126"
      },
      "outputs": [
        {
          "output_type": "stream",
          "name": "stdout",
          "text": [
            "Exercicio 8 - (Sequência de Fibonacci) - Codigo brazuca\n",
            "Escreva um programa que mostre os primeiros n números da sequência de Fibonacci, onde n é informado pelo usuário.\n",
            "\n",
            "Informe o valor de n: 5\n",
            "Os primeiros 5 números da sequência de Fibonacci são: [0, 1, 1, 2, 3]\n"
          ]
        }
      ],
      "source": [
        "print(\"Exercicio 8 - (Sequência de Fibonacci) - Codigo brazuca\")\n",
        "print(\"Crie um programa que leia três números diferentes e os imprima em ordem crescente.\")\n",
        "print(\"\")\n",
        "\n",
        "def fibonacci(n):\n",
        "    if n <= 0:\n",
        "        print(\"Insira um número maior que zero.\")\n",
        "        return\n",
        "\n",
        "    fib_seq = [0, 1]\n",
        "\n",
        "    for i in range(2, n):\n",
        "        proximo_numero = fib_seq[i - 1] + fib_seq[i - 2]\n",
        "        fib_seq.append(proximo_numero)\n",
        "\n",
        "    print(f\"Os primeiros {n} números da sequência de Fibonacci são: {fib_seq[:n]}\")\n",
        "\n",
        "n = int(input(\"Informe o valor de n: \"))\n",
        "fibonacci(n)"
      ]
    }
  ]
}