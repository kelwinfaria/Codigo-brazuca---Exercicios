{
  "nbformat": 4,
  "nbformat_minor": 0,
  "metadata": {
    "colab": {
      "provenance": [],
      "authorship_tag": "ABX9TyPK0QgARYwBGRJbXbtDRoiS",
      "include_colab_link": true
    },
    "kernelspec": {
      "name": "python3",
      "display_name": "Python 3"
    },
    "language_info": {
      "name": "python"
    }
  },
  "cells": [
    {
      "cell_type": "markdown",
      "metadata": {
        "id": "view-in-github",
        "colab_type": "text"
      },
      "source": [
        "<a href=\"https://colab.research.google.com/github/kelwinfaria/Codigo-brazuca---Exercicios/blob/main/Exercicios/3_Semana_Python/PYTHON_2_Ex03_Jogo_adivinhacao.ipynb\" target=\"_parent\"><img src=\"https://colab.research.google.com/assets/colab-badge.svg\" alt=\"Open In Colab\"/></a>"
      ]
    },
    {
      "cell_type": "code",
      "execution_count": null,
      "metadata": {
        "colab": {
          "base_uri": "https://localhost:8080/"
        },
        "id": "4J5C4L6VZiBx",
        "outputId": "00acb731-b70f-424f-fd68-5b0f39bfad2c"
      },
      "outputs": [
        {
          "output_type": "stream",
          "name": "stdout",
          "text": [
            "Exercicio 12 - (Jogo adivinhação) - Codigo brazuca\n",
            " Crie um jogo onde o programa escolhe um número aleatório entre 1 e 100, e o usuário deve adivinhar qual é o número\n",
            "\n",
            "Bem-vindo ao jogo de adivinhação!\n",
            "Estou pensando em um número entre 1 e 100.\n",
            "Faça uma tentativa: 8\n",
            "O número é maior do que isso.\n",
            "Faça uma tentativa: 80\n",
            "O número é menor do que isso.\n",
            "Faça uma tentativa: 50\n",
            "Parabéns! Você acertou o número em 3 tentativas.\n"
          ]
        }
      ],
      "source": [
        "print(\"Exercicio 12 - (Jogo adivinhação) - Codigo brazuca\")\n",
        "print(\" Crie um jogo onde o programa escolhe um número aleatório entre 1 e 100, e o usuário deve adivinhar qual é o número\")\n",
        "print(\"\")\n",
        "\n",
        "import random\n",
        "\n",
        "def jogo_adivinhacao():\n",
        "    numero_secreto = random.randint(1, 100)\n",
        "    tentativa = None\n",
        "    tentativas = 0\n",
        "\n",
        "    print(\"Bem-vindo ao jogo de adivinhação!\")\n",
        "    print(\"Estou pensando em um número entre 1 e 100.\")\n",
        "\n",
        "    while tentativa != numero_secreto:\n",
        "        tentativa = int(input(\"Faça uma tentativa: \"))\n",
        "        tentativas += 1\n",
        "\n",
        "        if tentativa < numero_secreto:\n",
        "            print(\"O número é maior do que isso.\")\n",
        "        elif tentativa > numero_secreto:\n",
        "            print(\"O número é menor do que isso.\")\n",
        "        else:\n",
        "            print(f\"Parabéns! Você acertou o número em {tentativas} tentativas.\")\n",
        "            break\n",
        "\n",
        "jogo_adivinhacao()"
      ]
    }
  ]
}
