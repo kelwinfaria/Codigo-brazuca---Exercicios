{
  "nbformat": 4,
  "nbformat_minor": 0,
  "metadata": {
    "colab": {
      "provenance": [],
      "authorship_tag": "ABX9TyMznlRltX8wbGpxAY23dxP2",
      "include_colab_link": true
    },
    "kernelspec": {
      "name": "python3",
      "display_name": "Python 3"
    },
    "language_info": {
      "name": "python"
    }
  },
  "cells": [
    {
      "cell_type": "markdown",
      "metadata": {
        "id": "view-in-github",
        "colab_type": "text"
      },
      "source": [
        "<a href=\"https://colab.research.google.com/github/kelwinfaria/Codigo-brazuca---Exercicios/blob/main/Exercicios/3_Semana_Python/PYTHON_2__Ex03_Calculo_de_IMC.ipynb\" target=\"_parent\"><img src=\"https://colab.research.google.com/assets/colab-badge.svg\" alt=\"Open In Colab\"/></a>"
      ]
    },
    {
      "cell_type": "code",
      "execution_count": 1,
      "metadata": {
        "colab": {
          "base_uri": "https://localhost:8080/"
        },
        "id": "BP4RDWsAqFM4",
        "outputId": "276135a5-05ea-4b45-af46-fcac00bb25dd"
      },
      "outputs": [
        {
          "output_type": "stream",
          "name": "stdout",
          "text": [
            "Exercicio 3 - (Cálculo de IMC) - Código brazuca\n",
            ": Escreva um programa que peça o peso e a altura de uma pessoa e calcule seu Índice de Massa Corporal (IMC)\n",
            "\n",
            "Digite o seu peso  82\n",
            "Digite sua altura  1.85\n",
            "O seu IMC é: 23.96\n"
          ]
        }
      ],
      "source": [
        "print(\"Exercicio 3 - (Cálculo de IMC) - Código brazuca\")\n",
        "print(\": Escreva um programa que peça o peso e a altura de uma pessoa e calcule seu Índice de Massa Corporal (IMC)\")\n",
        "print(\"\")\n",
        "\n",
        "peso = float(input(\"Digite o seu peso  \"))\n",
        "altura = float(input(\"Digite sua altura  \"))\n",
        "\n",
        "imc= peso / (altura**2)\n",
        "\n",
        "print(f\"O seu IMC é: {imc:.2f}\")\n",
        "\n"
      ]
    }
  ]
}
