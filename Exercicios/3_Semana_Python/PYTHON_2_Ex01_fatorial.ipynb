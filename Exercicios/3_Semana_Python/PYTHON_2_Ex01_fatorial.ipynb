{
  "nbformat": 4,
  "nbformat_minor": 0,
  "metadata": {
    "colab": {
      "provenance": [],
      "authorship_tag": "ABX9TyPqbpC0b50GzRcMJoMQxRRv",
      "include_colab_link": true
    },
    "kernelspec": {
      "name": "python3",
      "display_name": "Python 3"
    },
    "language_info": {
      "name": "python"
    }
  },
  "cells": [
    {
      "cell_type": "markdown",
      "metadata": {
        "id": "view-in-github",
        "colab_type": "text"
      },
      "source": [
        "<a href=\"https://colab.research.google.com/github/kelwinfaria/Codigo-brazuca---Exercicios/blob/main/Exercicios/3_Semana_Python/PYTHON_2_Ex01_fatorial.ipynb\" target=\"_parent\"><img src=\"https://colab.research.google.com/assets/colab-badge.svg\" alt=\"Open In Colab\"/></a>"
      ]
    },
    {
      "cell_type": "code",
      "source": [
        "print(\"Exercicio 1 - (Calculando Fatorial) - Código brazuca\")\n",
        "print(\"Escreva um programa que peça um número inteiro ao usuário e calcule o fatorial desse número.\")\n",
        "print(\"\")\n",
        "\n",
        "import math\n",
        "\n",
        "numero = int(input(\"Digite um numero para descobrir seu fatorial\"))\n",
        "\n",
        "resultado = math.factorial(numero)\n",
        "\n",
        "print(\"\")\n",
        "print(f\"E o fatorial de {numero} e {resultado}\")"
      ],
      "metadata": {
        "id": "FiCe6qmVi1x1",
        "outputId": "45f048ab-83ec-4e50-bfef-66780d67c89c",
        "colab": {
          "base_uri": "https://localhost:8080/"
        }
      },
      "execution_count": 2,
      "outputs": [
        {
          "output_type": "stream",
          "name": "stdout",
          "text": [
            "Exercicio 1 - (Calculando Fatorial) - Código brazuca\n",
            "Escreva um programa que peça um número inteiro ao usuário e calcule o fatorial desse número.\n",
            "\n",
            "Digite um numero para descobrir seu fatorial5\n",
            "\n",
            "E o fatorial de 5 e 120\n"
          ]
        }
      ]
    }
  ]
}