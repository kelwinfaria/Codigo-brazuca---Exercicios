{
  "nbformat": 4,
  "nbformat_minor": 0,
  "metadata": {
    "colab": {
      "provenance": [],
      "authorship_tag": "ABX9TyMmnrjO3Cx4LgWlhp+kvzIW",
      "include_colab_link": true
    },
    "kernelspec": {
      "name": "python3",
      "display_name": "Python 3"
    },
    "language_info": {
      "name": "python"
    }
  },
  "cells": [
    {
      "cell_type": "markdown",
      "metadata": {
        "id": "view-in-github",
        "colab_type": "text"
      },
      "source": [
        "<a href=\"https://colab.research.google.com/github/kelwinfaria/Codigo-brazuca---Exercicios/blob/main/Exercicios/3_Semana_Python/PYTHON_2_Ex13_Soma_de_N%C3%BAmeros_Pares.ipynb\" target=\"_parent\"><img src=\"https://colab.research.google.com/assets/colab-badge.svg\" alt=\"Open In Colab\"/></a>"
      ]
    },
    {
      "cell_type": "code",
      "execution_count": null,
      "metadata": {
        "colab": {
          "base_uri": "https://localhost:8080/"
        },
        "id": "EK_xYQEOaz47",
        "outputId": "63f6fcfd-e9b7-4ad6-fdcf-4718daf4d81f"
      },
      "outputs": [
        {
          "output_type": "stream",
          "name": "stdout",
          "text": [
            "A soma de todos os números pares entre 1 e 100 é: 2550\n"
          ]
        }
      ],
      "source": [
        "print(\"Exercicio 13 - (Soma de numeros p) - Codigo brazuca\")\n",
        "print(\"Desenvolva um programa que calcule a área de um círculo a partir do raio fornecido pelo usuário.. \")\n",
        "print(\"\")\n",
        "\n",
        "def soma_pares():\n",
        "    soma = 0\n",
        "    for numero in range(2, 101, 2):\n",
        "        soma += numero\n",
        "    return soma\n",
        "\n",
        "resultado = soma_pares()\n",
        "print(f\"A soma de todos os números pares entre 1 e 100 é: {resultado}\")"
      ]
    }
  ]
}