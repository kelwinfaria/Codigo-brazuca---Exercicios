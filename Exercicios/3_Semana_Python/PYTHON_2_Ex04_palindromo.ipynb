{
  "nbformat": 4,
  "nbformat_minor": 0,
  "metadata": {
    "colab": {
      "provenance": [],
      "authorship_tag": "ABX9TyN0UZw3u8+czmNQeQNPme8p",
      "include_colab_link": true
    },
    "kernelspec": {
      "name": "python3",
      "display_name": "Python 3"
    },
    "language_info": {
      "name": "python"
    }
  },
  "cells": [
    {
      "cell_type": "markdown",
      "metadata": {
        "id": "view-in-github",
        "colab_type": "text"
      },
      "source": [
        "<a href=\"https://colab.research.google.com/github/kelwinfaria/Codigo-brazuca---Exercicios/blob/main/Exercicios/3_Semana_Python/PYTHON_2_Ex04_palindromo.ipynb\" target=\"_parent\"><img src=\"https://colab.research.google.com/assets/colab-badge.svg\" alt=\"Open In Colab\"/></a>"
      ]
    },
    {
      "cell_type": "code",
      "source": [
        "entrada = input(\"Digite um palavra ou frase : \")\n",
        "entrada = entrada.lower()\n",
        "entrada_limpa = \"\".join(char for char in entrada if char.isalnum())\n",
        "eh_palindromo = entrada_limpa == entrada_limpa[::-1]\n",
        "if eh_palindromo:\n",
        "  print(\"É palindromo ! \")\n",
        "else:\n",
        "  print(\"Não é palindromo ! \")"
      ],
      "metadata": {
        "colab": {
          "base_uri": "https://localhost:8080/"
        },
        "id": "bCY5XNW1aEl6",
        "outputId": "37d982c7-32d1-438d-a9db-1935903ba97f"
      },
      "execution_count": null,
      "outputs": [
        {
          "output_type": "stream",
          "name": "stdout",
          "text": [
            "Digite um palavra ou frase : Natan\n",
            "É palindromo ! \n"
          ]
        }
      ]
    },
    {
      "cell_type": "code",
      "source": [],
      "metadata": {
        "id": "kU9MBv7GoWmM"
      },
      "execution_count": null,
      "outputs": []
    }
  ]
}