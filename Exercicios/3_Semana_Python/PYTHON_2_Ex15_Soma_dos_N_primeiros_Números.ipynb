{
  "nbformat": 4,
  "nbformat_minor": 0,
  "metadata": {
    "colab": {
      "provenance": [],
      "authorship_tag": "ABX9TyPsNNOxoH6t5AfznqiAuMia",
      "include_colab_link": true
    },
    "kernelspec": {
      "name": "python3",
      "display_name": "Python 3"
    },
    "language_info": {
      "name": "python"
    }
  },
  "cells": [
    {
      "cell_type": "markdown",
      "metadata": {
        "id": "view-in-github",
        "colab_type": "text"
      },
      "source": [
        "<a href=\"https://colab.research.google.com/github/kelwinfaria/Codigo-brazuca---Exercicios/blob/main/Exercicios/3_Semana_Python/PYTHON_2_Ex15_Soma_dos_N_primeiros_N%C3%BAmeros.ipynb\" target=\"_parent\"><img src=\"https://colab.research.google.com/assets/colab-badge.svg\" alt=\"Open In Colab\"/></a>"
      ]
    },
    {
      "cell_type": "code",
      "execution_count": null,
      "metadata": {
        "colab": {
          "base_uri": "https://localhost:8080/"
        },
        "id": "LFSbO5kFcfIW",
        "outputId": "f6540bc0-700e-46ec-866c-3d379cf3b027"
      },
      "outputs": [
        {
          "output_type": "stream",
          "name": "stdout",
          "text": [
            "Exercicio 15 - (Soma dos N primeiros Números) - Codigo brazuca\n",
            "Desenvolva um programa que calcule a área de um círculo a partir do raio fornecido pelo usuário.. \n",
            "\n",
            "Digite um número natural n: 6\n",
            "A soma dos primeiros 6 números naturais é: 21\n"
          ]
        }
      ],
      "source": [
        "print(\"Exercicio 15 - (Soma dos N primeiros Números) - Codigo brazuca\")\n",
        "print(\"Desenvolva um programa que calcule a área de um círculo a partir do raio fornecido pelo usuário.. \")\n",
        "print(\"\")\n",
        "\n",
        "def soma_numeros_naturais(n):\n",
        "    soma = 0\n",
        "    for i in range(1, n + 1):\n",
        "        soma += i\n",
        "    return soma\n",
        "\n",
        "n = int(input(\"Digite um número natural n: \"))\n",
        "resultado = soma_numeros_naturais(n)\n",
        "print(f\"A soma dos primeiros {n} números naturais é: {resultado}\")"
      ]
    }
  ]
}