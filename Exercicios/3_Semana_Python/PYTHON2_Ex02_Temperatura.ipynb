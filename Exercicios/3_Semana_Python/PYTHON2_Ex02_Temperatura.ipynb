{
  "nbformat": 4,
  "nbformat_minor": 0,
  "metadata": {
    "colab": {
      "provenance": [],
      "authorship_tag": "ABX9TyPENwt4jAmiQ6U2gNjx37Dw",
      "include_colab_link": true
    },
    "kernelspec": {
      "name": "python3",
      "display_name": "Python 3"
    },
    "language_info": {
      "name": "python"
    }
  },
  "cells": [
    {
      "cell_type": "markdown",
      "metadata": {
        "id": "view-in-github",
        "colab_type": "text"
      },
      "source": [
        "<a href=\"https://colab.research.google.com/github/kelwinfaria/Codigo-brazuca---Exercicios/blob/main/Exercicios/3_Semana_Python/PYTHON2_Ex02_Temperatura.ipynb\" target=\"_parent\"><img src=\"https://colab.research.google.com/assets/colab-badge.svg\" alt=\"Open In Colab\"/></a>"
      ]
    },
    {
      "cell_type": "code",
      "execution_count": 1,
      "metadata": {
        "id": "pPQRZTf6jzKk",
        "colab": {
          "base_uri": "https://localhost:8080/"
        },
        "outputId": "d13f8204-5822-48ff-9b05-19ac6d35afd7"
      },
      "outputs": [
        {
          "output_type": "stream",
          "name": "stdout",
          "text": [
            "Exercicio 2 - (Conversão de Temperaturas) - Código brazuca\n",
            "Crie um programa que converta uma temperatura dada em Celsius para Fahrenheit e Kelvin.\n",
            "\n",
            "Insira a temperatura em Celsius e converta para Fahrenheit e Kelvin: 32\n",
            "\n",
            "A temperatura em Kelvin é : 305.15\n",
            "A temperatura em Fahrenheit é : 89.6 \n"
          ]
        }
      ],
      "source": [
        "print(\"Exercicio 2 - (Conversão de Temperaturas) - Código brazuca\")\n",
        "print(\"Crie um programa que converta uma temperatura dada em Celsius para Fahrenheit e Kelvin.\")\n",
        "print(\"\")\n",
        "\n",
        "celsius = float(input(\"Insira a temperatura em Celsius e converta para Fahrenheit e Kelvin: \"   ))\n",
        "\n",
        "\n",
        "fahrenheit = celsius * 9/5 + 32\n",
        "kelvin = celsius + 273.15\n",
        "print(\"\")\n",
        "print(f\"A temperatura em Kelvin é : {kelvin}\")\n",
        "print(f\"A temperatura em Fahrenheit é : {fahrenheit} \")\n"
      ]
    },
    {
      "cell_type": "code",
      "source": [],
      "metadata": {
        "id": "f4fu8b9AAYz8"
      },
      "execution_count": null,
      "outputs": []
    }
  ]
}