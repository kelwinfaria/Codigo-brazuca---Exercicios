{
  "nbformat": 4,
  "nbformat_minor": 0,
  "metadata": {
    "colab": {
      "provenance": [],
      "authorship_tag": "ABX9TyMH4xlgQNnd/zQIjNnsvBRW",
      "include_colab_link": true
    },
    "kernelspec": {
      "name": "python3",
      "display_name": "Python 3"
    },
    "language_info": {
      "name": "python"
    }
  },
  "cells": [
    {
      "cell_type": "markdown",
      "metadata": {
        "id": "view-in-github",
        "colab_type": "text"
      },
      "source": [
        "<a href=\"https://colab.research.google.com/github/kelwinfaria/Codigo-brazuca---Exercicios/blob/main/Exercicios/3_Semana_Python/PYTHON_2_Ex07_M%C3%A9dia.ipynb\" target=\"_parent\"><img src=\"https://colab.research.google.com/assets/colab-badge.svg\" alt=\"Open In Colab\"/></a>"
      ]
    },
    {
      "cell_type": "code",
      "execution_count": 1,
      "metadata": {
        "colab": {
          "base_uri": "https://localhost:8080/"
        },
        "id": "9C5_XhIxPKBl",
        "outputId": "f733dd3a-0b74-4b73-a8a9-5c20a2ec402f"
      },
      "outputs": [
        {
          "output_type": "stream",
          "name": "stdout",
          "text": [
            "Exercicio 7 - (Média de Notas) - Código brazuca\n",
            "Desenvolva um programa que calcule a média de várias notas inseridas pelo usuário. O programa deve parar de pedir notas quando o usuário digitar -1.\n",
            "\n",
            "Digite uma nota (ou -1 para sair): 18\n",
            "Digite uma nota (ou -1 para sair): 20\n",
            "Digite uma nota (ou -1 para sair): 22\n",
            "Digite uma nota (ou -1 para sair): -1\n",
            "A média das notas é: 20.00\n"
          ]
        }
      ],
      "source": [
        "print(\"Exercicio 7 - (Média de Notas) - Código brazuca\")\n",
        "print(\"Desenvolva um programa que calcule a média de várias notas inseridas pelo usuário. O programa deve parar de pedir notas quando o usuário digitar -1.\")\n",
        "print(\"\")\n",
        "\n",
        "def calcular_media():\n",
        "    soma_notas = 0\n",
        "    quantidade_notas = 0\n",
        "\n",
        "    while True:\n",
        "        nota = float(input(\"Digite uma nota (ou -1 para sair): \"))\n",
        "\n",
        "        if nota == -1:\n",
        "            break\n",
        "\n",
        "        soma_notas += nota\n",
        "        quantidade_notas += 1\n",
        "\n",
        "    if quantidade_notas > 0:\n",
        "        media = soma_notas / quantidade_notas\n",
        "        print(f\"A média das notas é: {media:.2f}\")\n",
        "    else:\n",
        "        print(\"Nenhuma nota foi inserida.\")\n",
        "\n",
        "calcular_media()"
      ]
    }
  ]
}