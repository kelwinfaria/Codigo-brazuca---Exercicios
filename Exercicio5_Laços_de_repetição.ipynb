{
  "nbformat": 4,
  "nbformat_minor": 0,
  "metadata": {
    "colab": {
      "provenance": [],
      "authorship_tag": "ABX9TyPfVOkJEbu4B5X47qQO34fB",
      "include_colab_link": true
    },
    "kernelspec": {
      "name": "python3",
      "display_name": "Python 3"
    },
    "language_info": {
      "name": "python"
    }
  },
  "cells": [
    {
      "cell_type": "markdown",
      "metadata": {
        "id": "view-in-github",
        "colab_type": "text"
      },
      "source": [
        "<a href=\"https://colab.research.google.com/github/kelwinfaria/Codigo-brazuca---Exercicios/blob/main/Exercicio5_La%C3%A7os_de_repeti%C3%A7%C3%A3o.ipynb\" target=\"_parent\"><img src=\"https://colab.research.google.com/assets/colab-badge.svg\" alt=\"Open In Colab\"/></a>"
      ]
    },
    {
      "cell_type": "code",
      "execution_count": null,
      "metadata": {
        "id": "Hm4qAxDCYUVj"
      },
      "outputs": [],
      "source": [
        "print(\"Exercicio 5 - (Laços de Repetição) - Código brazuca\")\n",
        "print(\"Escreva um programa que conte de 1 a 10 e imprima apenas os números pares.\")\n",
        "print(\"\")\n",
        "\n",
        "for numero in range(1,15):\n",
        "  if numero % 2 == 0:\n",
        "        print(numero)"
      ]
    }
  ]
}