{
  "nbformat": 4,
  "nbformat_minor": 0,
  "metadata": {
    "colab": {
      "provenance": [],
      "authorship_tag": "ABX9TyNiaHO07aJZbXvjkY3sLgwH",
      "include_colab_link": true
    },
    "kernelspec": {
      "name": "python3",
      "display_name": "Python 3"
    },
    "language_info": {
      "name": "python"
    }
  },
  "cells": [
    {
      "cell_type": "markdown",
      "metadata": {
        "id": "view-in-github",
        "colab_type": "text"
      },
      "source": [
        "<a href=\"https://colab.research.google.com/github/kelwinfaria/Codigo-brazuca---Exercicios/blob/main/Exercicio7_python_Trabalhando_com_Listas.ipynb\" target=\"_parent\"><img src=\"https://colab.research.google.com/assets/colab-badge.svg\" alt=\"Open In Colab\"/></a>"
      ]
    },
    {
      "cell_type": "code",
      "execution_count": 1,
      "metadata": {
        "colab": {
          "base_uri": "https://localhost:8080/"
        },
        "id": "kxPsdCYbZY9x",
        "outputId": "5e5f7245-c512-4608-d1d3-eb1ce0daba68"
      },
      "outputs": [
        {
          "output_type": "stream",
          "name": "stdout",
          "text": [
            "Exercicio 7 - (Trabalhando com Listas) - Código brazuca\n",
            "Crie uma lista de compras que permita ao usuário adicionar itens e, em seguida, imprima a lista completa.\n",
            "\n",
            "Adicione um item à lista de compras (ou digite 'sair' para finalizar): dfa]\n",
            "Adicione um item à lista de compras (ou digite 'sair' para finalizar): dsaf\n",
            "Adicione um item à lista de compras (ou digite 'sair' para finalizar): sair\n",
            "\n",
            "Lista de Compras:\n",
            "- dfa]\n",
            "- dsaf\n"
          ]
        }
      ],
      "source": [
        "print(\"Exercicio 7 - (Trabalhando com Listas) - Código brazuca\")\n",
        "print(\"Crie uma lista de compras que permita ao usuário adicionar itens e, em seguida, imprima a lista completa.\")\n",
        "print(\"\")\n",
        "\n",
        "\n",
        "lista_compras = []\n",
        "\n",
        "while True:\n",
        "\n",
        "    item = input(\"Adicione um item à lista de compras (ou digite 'sair' para finalizar): \")\n",
        "\n",
        "    if item.lower() == 'sair':\n",
        "        break\n",
        "\n",
        "    lista_compras.append(item)\n",
        "\n",
        "print(\"\\nLista de Compras:\")\n",
        "for item in lista_compras:\n",
        "    print(\"- \" + item)"
      ]
    }
  ]
}