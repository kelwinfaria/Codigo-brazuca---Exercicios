{
  "nbformat": 4,
  "nbformat_minor": 0,
  "metadata": {
    "colab": {
      "provenance": [],
      "authorship_tag": "ABX9TyP8z6NJnAHcir165fvHD9lL",
      "include_colab_link": true
    },
    "kernelspec": {
      "name": "python3",
      "display_name": "Python 3"
    },
    "language_info": {
      "name": "python"
    }
  },
  "cells": [
    {
      "cell_type": "markdown",
      "metadata": {
        "id": "view-in-github",
        "colab_type": "text"
      },
      "source": [
        "<a href=\"https://colab.research.google.com/github/kelwinfaria/Codigo-brazuca---Exercicios/blob/main/Exercicio4_python_Estruturas_Condicionais.ipynb\" target=\"_parent\"><img src=\"https://colab.research.google.com/assets/colab-badge.svg\" alt=\"Open In Colab\"/></a>"
      ]
    },
    {
      "cell_type": "code",
      "execution_count": null,
      "metadata": {
        "id": "Pvv0eAnlXoMe"
      },
      "outputs": [],
      "source": [
        "print(\"Exercicio 4 - (Estruturas Condicionais) - Código brazuca\")\n",
        "print(\"Escreva um programa que peça a temperatura atual e diga se está quente (acima de 30°C), frio (abaixo de 15°C) ou agradável (entre 15°C e 30°C).\")\n",
        "print(\"\")\n",
        "\n",
        "\n",
        "# Solicita ao usuário que insira a temperatura atual\n",
        "temperatura = float(input(\"Digite a temperatura atual em °C: \"))\n",
        "\n",
        "# Verifica se a temperatura é quente, fria ou agradávelif temperatura > 30:\n",
        "\n",
        "if temperatura > 30:\n",
        "    print(\"Está quente.\")\n",
        "elif temperatura < 15:\n",
        "    print(\"Está frio.\")\n",
        "else:\n",
        "    print(\"Está agradável.\")"
      ]
    }
  ]
}
