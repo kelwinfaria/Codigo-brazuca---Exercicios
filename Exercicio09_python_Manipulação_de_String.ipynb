{
  "nbformat": 4,
  "nbformat_minor": 0,
  "metadata": {
    "colab": {
      "provenance": [],
      "authorship_tag": "ABX9TyOd41gRjyzxHqpNFz1Q2Wsr",
      "include_colab_link": true
    },
    "kernelspec": {
      "name": "python3",
      "display_name": "Python 3"
    },
    "language_info": {
      "name": "python"
    }
  },
  "cells": [
    {
      "cell_type": "markdown",
      "metadata": {
        "id": "view-in-github",
        "colab_type": "text"
      },
      "source": [
        "<a href=\"https://colab.research.google.com/github/kelwinfaria/Codigo-brazuca---Exercicios/blob/main/Exercicio09_python_Manipula%C3%A7%C3%A3o_de_String.ipynb\" target=\"_parent\"><img src=\"https://colab.research.google.com/assets/colab-badge.svg\" alt=\"Open In Colab\"/></a>"
      ]
    },
    {
      "cell_type": "code",
      "execution_count": 1,
      "metadata": {
        "colab": {
          "base_uri": "https://localhost:8080/"
        },
        "id": "CTGrNQf2aUVN",
        "outputId": "22d4c945-d14a-49f2-ba83-7ac65874cb62"
      },
      "outputs": [
        {
          "output_type": "stream",
          "name": "stdout",
          "text": [
            "Exercicio 9 - (Manipulação de Strings) - Código brazuca\n",
            "#Escreva um programa que peça uma frase ao usuário e conte quantas vezes uma letra específica aparece\n",
            "\n",
            "Digite uma fraseO rato roeu a roupa do rei de roma\n",
            "Digite uma letraa\n",
            "A letra a aparece 4 de vezes\n"
          ]
        }
      ],
      "source": [
        "print(\"Exercicio 9 - (Manipulação de Strings) - Código brazuca\")\n",
        "print(\"#Escreva um programa que peça uma frase ao usuário e conte quantas vezes uma letra específica aparece\")\n",
        "print(\"\")\n",
        "\n",
        "\n",
        "frase=input(\"Digite uma frase\").lower()\n",
        "letra=input(\"Digite uma letra\").lower()\n",
        "\n",
        "quantidade = frase.count(letra)\n",
        "\n",
        "if quantidade == 1:\n",
        "   print(f\"A letra {letra} aparece {quantidade} vez\")\n",
        "\n",
        "else:\n",
        "   print(f\"A letra {letra} aparece {quantidade} de vezes\")"
      ]
    }
  ]
}